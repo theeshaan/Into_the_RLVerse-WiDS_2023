{
 "cells": [
  {
   "cell_type": "markdown",
   "metadata": {},
   "source": [
    "## MNIST Classification using PyTorch\n",
    "Implement a CNN model in PyTorch to classify MNIST dataset, you can use sklearn library to import the mnist dataset."
   ]
  },
  {
   "cell_type": "code",
   "execution_count": 1,
   "metadata": {},
   "outputs": [],
   "source": [
    "# This code is based on the pytorch course by Patrick Loeber (https://www.youtube.com/watch?v=c36lUUr864M)\n",
    "\n",
    "# Importing all required libraries\n",
    "import torch\n",
    "import torch.nn as nn\n",
    "import torchvision # to import the MNIST dataset. Preferred over sklearn because torchvision version is more compatible with pytorch functions\n",
    "import torchvision.transforms as transforms # to transform arrays to tensors\n",
    "import matplotlib.pyplot as plt"
   ]
  },
  {
   "cell_type": "code",
   "execution_count": 2,
   "metadata": {},
   "outputs": [],
   "source": [
    "# Device configuration - to utilise GPU support if available on the test device\n",
    "device = ('cuda' if torch.cuda.is_available() else 'cpu')"
   ]
  },
  {
   "cell_type": "code",
   "execution_count": 3,
   "metadata": {},
   "outputs": [],
   "source": [
    "# Defining hyper parameters\n",
    "input_size = 784 # since images are as 28x28 grids\n",
    "hidden_size = 500 # the size of the inner neural layer\n",
    "num_classes = 10 # since the input can be classified into one of the digits 0-9\n",
    "num_epochs = 2 # set low for speed, increase if accuracy isn't good\n",
    "batch_size = 100 # splitting the dataset into batches for speeding up training\n",
    "learning_rate = 0.001 # for Stochastic Gradient Descent"
   ]
  },
  {
   "cell_type": "code",
   "execution_count": 4,
   "metadata": {},
   "outputs": [],
   "source": [
    "# Setting up the data from MNIST dataset\n",
    "train_dataset = torchvision.datasets.MNIST(root='./data', train=True, transform=transforms.ToTensor(), download=True)\n",
    "test_dataset = torchvision.datasets.MNIST(root='./data', train=False, transform=transforms.ToTensor())\n",
    "\n",
    "# loading the data, to enable batching ad shuffling of training data (and also enable iterating over batches)\n",
    "train_loader = torch.utils.data.DataLoader(dataset=train_dataset, batch_size=batch_size, shuffle=True)\n",
    "test_loader = torch.utils.data.DataLoader(dataset=test_dataset, batch_size=batch_size, shuffle=False)"
   ]
  },
  {
   "cell_type": "code",
   "execution_count": 5,
   "metadata": {},
   "outputs": [
    {
     "data": {
      "image/png": "[encoded data removed]",
      "text/plain": [
       "<Figure size 640x480 with 6 Axes>"
      ]
     },
     "metadata": {},
     "output_type": "display_data"
    }
   ],
   "source": [
    "# Printing a sample of the input data\n",
    "example = iter(test_loader)\n",
    "example_data, example_targets = next(example)\n",
    "for i in range(6):\n",
    "    plt.subplot(2,3,i+1)\n",
    "    plt.imshow(example_data[i][0], cmap='gray') # displaying the images with colormap set to gray\n",
    "plt.suptitle('Sample inputs')\n",
    "plt.show()"
   ]
  },
  {
   "cell_type": "code",
   "execution_count": 6,
   "metadata": {},
   "outputs": [],
   "source": [
    "# Creating a fully connected neural network with one hidden layer\n",
    "class NeuralNet(nn.Module):\n",
    "    def __init__(self, input_size, hidden_size, num_classes):\n",
    "        super(NeuralNet, self).__init__()\n",
    "        self.input_size = input_size\n",
    "        self.l1 = nn.Linear(input_size, hidden_size)\n",
    "        self.relu = nn.ReLU()\n",
    "        self.l2 = nn.Linear(hidden_size, num_classes)\n",
    "        \n",
    "    def forward(self, x):\n",
    "        out = self.l1(x)\n",
    "        out = self.relu(out)\n",
    "        out = self.l2(out)\n",
    "        # we do not use any activation function here because CrossEntropyLoss, which we use later, takes care of that\n",
    "        return out\n",
    "    \n",
    "model = NeuralNet(input_size, hidden_size, num_classes).to(device)"
   ]
  },
  {
   "cell_type": "code",
   "execution_count": 7,
   "metadata": {},
   "outputs": [],
   "source": [
    "# Defining loss and optimiser functions\n",
    "Loss = nn.CrossEntropyLoss()\n",
    "optimiser = torch.optim.Adam(model.parameters(), lr = learning_rate)\n",
    "# Adam is an optimisation like SGD, but it has additional features like momentum and adaptive learning rate"
   ]
  },
  {
   "cell_type": "code",
   "execution_count": 8,
   "metadata": {},
   "outputs": [],
   "source": [
    "# Training the model\n",
    "for epoch in range(num_epochs):\n",
    "    for i, (images, labels) in enumerate(train_loader): # i is index here\n",
    "        images = images.reshape(-1, 28*28).to(device) # reshaping [100, 1, 28, 28] to [100, 784]\n",
    "        labels = labels.to(device)\n",
    "        \n",
    "        # Forward pass\n",
    "        outputs = model(images)\n",
    "        \n",
    "        # loss calculation\n",
    "        loss = Loss(outputs, labels)\n",
    "        \n",
    "        # Backward pass (gradient calculations)\n",
    "        loss.backward()\n",
    "        \n",
    "        # Adjustment of weights\n",
    "        optimiser.step()\n",
    "        \n",
    "        # Resetting grad to zero\n",
    "        optimiser.zero_grad()"
   ]
  },
  {
   "cell_type": "code",
   "execution_count": 9,
   "metadata": {},
   "outputs": [],
   "source": [
    "# Testing the model\n",
    "# We don't compute gradients while doing testing because they are no longer required\n",
    "with torch.no_grad():\n",
    "    n_correct = 0\n",
    "    n_samples = 0 # these two are for calulating accuracy of the model\n",
    "    total_confidence = 0\n",
    "    for images, labels in test_loader: # index not required since we are not enumerating\n",
    "        images = images.reshape(-1, 28*28).to(device)\n",
    "        labels = labels.to(device)\n",
    "        \n",
    "        output = model(images)\n",
    "        output = nn.functional.softmax(output, dim=1)\n",
    "        confidence, predicted = torch.max(output, 1) # The max function returns value, index.\n",
    "        # and the argument '1' denotes that we want the maximum along each column of output\n",
    "        \n",
    "        n_samples += labels.size(0)\n",
    "        n_correct += (predicted==labels).sum().item() # .item() converts the 0D tensor to an integer\n",
    "        total_confidence += confidence.sum().item()"
   ]
  },
  {
   "cell_type": "code",
   "execution_count": 10,
   "metadata": {},
   "outputs": [
    {
     "name": "stdout",
     "output_type": "stream",
     "text": [
      "Accuarcy of the Neural Network on 10000 test images = 97.09%\n",
      "Average confidence of network's prediction =  96.27%\n"
     ]
    }
   ],
   "source": [
    "# Results\n",
    "accuracy = n_correct/float(n_samples)\n",
    "confidence = total_confidence/float(n_samples)\n",
    "print(f'Accuarcy of the Neural Network on {n_samples} test images = {accuracy*100}%')\n",
    "print(f'Average confidence of network\\'s prediction = {confidence*100: .2f}%')"
   ]
  }
 ],
 "metadata": {
  "kernelspec": {
   "display_name": "Python 3 (ipykernel)",
   "language": "python",
   "name": "python3"
  },
  "language_info": {
   "codemirror_mode": {
    "name": "ipython",
    "version": 3
   },
   "file_extension": ".py",
   "mimetype": "text/x-python",
   "name": "python",
   "nbconvert_exporter": "python",
   "pygments_lexer": "ipython3",
   "version": "3.11.7"
  }
 },
 "nbformat": 4,
 "nbformat_minor": 2
}
